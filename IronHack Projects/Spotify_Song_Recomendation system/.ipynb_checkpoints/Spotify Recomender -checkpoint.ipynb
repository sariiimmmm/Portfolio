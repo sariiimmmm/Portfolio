{
 "cells": [
  {
   "cell_type": "code",
   "execution_count": 1,
   "id": "fd61b5e8",
   "metadata": {},
   "outputs": [],
   "source": [
    "import config\n",
    "from IPython.display import IFrame\n",
    "from random import randint\n",
    "import pandas as pd\n",
    "import spotipy\n",
    "import json\n",
    "from spotipy.oauth2 import SpotifyClientCredentials\n",
    "import warnings\n",
    "warnings.filterwarnings('ignore')\n",
    "import pickle\n",
    "from tabulate import tabulate"
   ]
  },
  {
   "cell_type": "code",
   "execution_count": 3,
   "id": "23274c9a",
   "metadata": {},
   "outputs": [],
   "source": [
    "sp = spotipy.Spotify(auth_manager=SpotifyClientCredentials(client_id= config.client_id,\n",
    "                                                           client_secret= config.client_secret))"
   ]
  },
  {
   "cell_type": "code",
   "execution_count": 4,
   "id": "4cc0b37d",
   "metadata": {},
   "outputs": [],
   "source": [
    "df_final = pd.read_csv(\"export_recommender.csv\")"
   ]
  },
  {
   "cell_type": "code",
   "execution_count": 5,
   "id": "270f3685",
   "metadata": {},
   "outputs": [],
   "source": [
    "def play_song(track_id):\n",
    "    return IFrame(src=\"https://open.spotify.com/embed/track/\"+track_id,\n",
    "       width=\"320\",\n",
    "       height=\"80\",\n",
    "       frameborder=\"0\",\n",
    "       allowtransparency=\"true\",\n",
    "       allow=\"encrypted-media\",\n",
    "      )"
   ]
  },
  {
   "cell_type": "code",
   "execution_count": 6,
   "id": "348274f1",
   "metadata": {},
   "outputs": [],
   "source": [
    "def load(filename = \"filename.pickle\"): \n",
    "    try: \n",
    "        with open(filename, \"rb\") as f: \n",
    "            return pickle.load(f) \n",
    "        \n",
    "    except FileNotFoundError: \n",
    "        print(\"File not found!\") "
   ]
  },
  {
   "cell_type": "code",
   "execution_count": 8,
   "id": "eb042db2",
   "metadata": {},
   "outputs": [],
   "source": [
    "scaler = load(\"scaler.pickle\")\n",
    "kmeans = load(\"kmeans_6.pickle\")"
   ]
  },
  {
   "cell_type": "code",
   "execution_count": 9,
   "id": "b556a159",
   "metadata": {},
   "outputs": [],
   "source": [
    "def user_input():\n",
    "    Input = input(\"Please enter an artist or song: \")\n",
    "    results = sp.search(q= Input,limit=3,market=\"GB\")\n",
    "    global id\n",
    "    id=results[\"tracks\"][\"items\"][0][\"id\"]\n",
    "    return play_song(id)\n",
    "     "
   ]
  },
  {
   "cell_type": "code",
   "execution_count": 39,
   "id": "5cf955e4",
   "metadata": {},
   "outputs": [],
   "source": [
    "def recommender():\n",
    "    features = sp.audio_features(id)\n",
    "    user_df=pd.DataFrame(features)    \n",
    "    user_df=user_df[['danceability','energy','loudness','speechiness','acousticness','instrumentalness','liveness','valence','tempo', 'duration_ms']]\n",
    "    user_key = user_df[\"danceability\"].values\n",
    "    user_temp = user_df[\"tempo\"].values\n",
    "    user_scaled = scaler.transform(user_df)\n",
    "    user_clusters = kmeans.predict(user_scaled)\n",
    "    recommendation_df = df_final[df_final[\"cluster\"]==user_clusters[0]] \n",
    "    record1_df = recommendation_df[recommendation_df[\"danceability\"]==user_key[0]]\n",
    "    record_df = record1_df[record1_df[\"tempo\"].between(user_temp[0]-10, user_temp[0]+10)].sample(n=1)\n",
    "    printed_r_df=record_df[['danceability','energy','loudness','speechiness','acousticness','instrumentalness','liveness','valence','tempo', 'duration_ms']]\n",
    "    r_id = record_df[\"id\"].values\n",
    "    print(\"These are the features of the song you chose: \")\n",
    "    print(tabulate(user_df, headers='keys', tablefmt='psql'))\n",
    "    print(\"These are the features of my recommendation: \")\n",
    "    print(tabulate(printed_r_df, headers=\"keys\", tablefmt='psql'))\n",
    "    print(\"__________________________________________________________________\")\n",
    "    print(\"This is the song I recommend to you, best regards your friendly AI: \")\n",
    "    return play_song(r_id[0])"
   ]
  },
  {
   "cell_type": "code",
   "execution_count": null,
   "id": "953fc5b6",
   "metadata": {},
   "outputs": [],
   "source": []
  },
  {
   "cell_type": "code",
   "execution_count": 33,
   "id": "36655f29",
   "metadata": {},
   "outputs": [
    {
     "name": "stdout",
     "output_type": "stream",
     "text": [
      "Please enter an artist or song: shakira\n"
     ]
    },
    {
     "data": {
      "text/html": [
       "\n",
       "        <iframe\n",
       "            width=\"320\"\n",
       "            height=\"80\"\n",
       "            src=\"https://open.spotify.com/embed/track/4nrPB8O7Y7wsOCJdgXkthe?frameborder=0&allowtransparency=true&allow=encrypted-media\"\n",
       "            frameborder=\"0\"\n",
       "            allowfullscreen\n",
       "            \n",
       "        ></iframe>\n",
       "        "
      ],
      "text/plain": [
       "<IPython.lib.display.IFrame at 0x7fc6dc25e6a0>"
      ]
     },
     "execution_count": 33,
     "metadata": {},
     "output_type": "execute_result"
    }
   ],
   "source": [
    "user_input()"
   ]
  },
  {
   "cell_type": "code",
   "execution_count": 40,
   "id": "d90893c4",
   "metadata": {},
   "outputs": [
    {
     "name": "stdout",
     "output_type": "stream",
     "text": [
      "These are the features of the song you chose: \n",
      "+----+----------------+----------+------------+---------------+----------------+--------------------+------------+-----------+---------+---------------+\n",
      "|    |   danceability |   energy |   loudness |   speechiness |   acousticness |   instrumentalness |   liveness |   valence |   tempo |   duration_ms |\n",
      "|----+----------------+----------+------------+---------------+----------------+--------------------+------------+-----------+---------+---------------|\n",
      "|  0 |          0.778 |    0.632 |       -5.6 |        0.0493 |          0.274 |                  0 |     0.0915 |     0.498 | 122.104 |        218289 |\n",
      "+----+----------------+----------+------------+---------------+----------------+--------------------+------------+-----------+---------+---------------+\n",
      "These are the features of my recommendation: \n",
      "+-----+----------------+----------+------------+---------------+----------------+--------------------+------------+-----------+---------+---------------+\n",
      "|     |   danceability |   energy |   loudness |   speechiness |   acousticness |   instrumentalness |   liveness |   valence |   tempo |   duration_ms |\n",
      "|-----+----------------+----------+------------+---------------+----------------+--------------------+------------+-----------+---------+---------------|\n",
      "| 481 |          0.778 |    0.719 |     -9.698 |        0.0345 |         0.0123 |             0.0262 |      0.297 |     0.729 |   115.4 |        239133 |\n",
      "+-----+----------------+----------+------------+---------------+----------------+--------------------+------------+-----------+---------+---------------+\n",
      "__________________________________________________________________\n",
      "This is the song I recommend to you, best regards your friendly AI: \n"
     ]
    },
    {
     "data": {
      "text/html": [
       "\n",
       "        <iframe\n",
       "            width=\"320\"\n",
       "            height=\"80\"\n",
       "            src=\"https://open.spotify.com/embed/track/569uHYIB0X324FZOBEhvit?frameborder=0&allowtransparency=true&allow=encrypted-media\"\n",
       "            frameborder=\"0\"\n",
       "            allowfullscreen\n",
       "            \n",
       "        ></iframe>\n",
       "        "
      ],
      "text/plain": [
       "<IPython.lib.display.IFrame at 0x7fc6c809a8b0>"
      ]
     },
     "execution_count": 40,
     "metadata": {},
     "output_type": "execute_result"
    }
   ],
   "source": [
    "recommender()"
   ]
  },
  {
   "cell_type": "code",
   "execution_count": null,
   "id": "8f574344",
   "metadata": {},
   "outputs": [],
   "source": []
  }
 ],
 "metadata": {
  "kernelspec": {
   "display_name": "Python 3 (ipykernel)",
   "language": "python",
   "name": "python3"
  },
  "language_info": {
   "codemirror_mode": {
    "name": "ipython",
    "version": 3
   },
   "file_extension": ".py",
   "mimetype": "text/x-python",
   "name": "python",
   "nbconvert_exporter": "python",
   "pygments_lexer": "ipython3",
   "version": "3.9.12"
  }
 },
 "nbformat": 4,
 "nbformat_minor": 5
}
