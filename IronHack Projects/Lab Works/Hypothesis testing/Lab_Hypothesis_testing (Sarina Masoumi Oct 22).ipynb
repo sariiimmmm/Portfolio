{
 "cells": [
  {
   "cell_type": "markdown",
   "id": "a814c59e",
   "metadata": {},
   "source": [
    "# Lab | Hypothesis Testing\n",
    "\n",
    "It is assumed that the mean systolic blood pressure is μ = 120 mm Hg. In the Honolulu Heart Study, a sample of n = 100 people had an average systolic blood pressure of 130.1 mm Hg with a standard deviation of 21.21 mm Hg. Is the group significantly different (with respect to systolic blood pressure!) from the regular population?\n",
    "\n",
    "- Set up the hypothesis test.\n",
    "- Write down all the steps followed for setting up the test.\n",
    "- Calculate the test statistic by hand and also code it in Python.\n",
    "\n",
    "It should be 4.76190. What decision can you make based on this calculated value?"
   ]
  },
  {
   "cell_type": "code",
   "execution_count": 1,
   "id": "07e5b273",
   "metadata": {},
   "outputs": [],
   "source": [
    "import numpy as np\n",
    "import pandas as pd\n",
    "import scipy.stats as stats\n",
    "import matplotlib.pyplot as plt\n",
    "import seaborn as sns\n",
    "from math import sqrt\n",
    "\n",
    "%matplotlib inline"
   ]
  },
  {
   "cell_type": "markdown",
   "id": "2b6e9081",
   "metadata": {},
   "source": [
    "- n=100\n",
    "- H0: mu=120 mm Hg\n",
    "- H1: mu != 130.1 mm Hg\n"
   ]
  },
  {
   "cell_type": "code",
   "execution_count": 2,
   "id": "39ac2892",
   "metadata": {},
   "outputs": [],
   "source": [
    "n=100\n",
    "pop_mean= 120 \n",
    "sample_mean= 130.1\n",
    "pop_std_dev=21.21"
   ]
  },
  {
   "cell_type": "code",
   "execution_count": 3,
   "id": "3b6192ce",
   "metadata": {},
   "outputs": [
    {
     "data": {
      "text/plain": [
       "4.761904761904759"
      ]
     },
     "execution_count": 3,
     "metadata": {},
     "output_type": "execute_result"
    }
   ],
   "source": [
    "t = ( sample_mean - pop_mean ) /   pop_std_dev*sqrt(100) \n",
    "t"
   ]
  },
  {
   "cell_type": "code",
   "execution_count": 4,
   "id": "7941dffa",
   "metadata": {},
   "outputs": [
    {
     "data": {
      "text/plain": [
       "4.761904761904759"
      ]
     },
     "execution_count": 4,
     "metadata": {},
     "output_type": "execute_result"
    }
   ],
   "source": [
    "t=(130.1-120)/21.21*sqrt(100)\n",
    "t"
   ]
  },
  {
   "cell_type": "code",
   "execution_count": 7,
   "id": "bb2e403c",
   "metadata": {},
   "outputs": [
    {
     "data": {
      "text/plain": [
       "True"
      ]
     },
     "execution_count": 7,
     "metadata": {},
     "output_type": "execute_result"
    }
   ],
   "source": [
    "tc=1.660\n",
    "t>tc"
   ]
  },
  {
   "cell_type": "markdown",
   "id": "9672ebc0",
   "metadata": {},
   "source": [
    "so t is bigger than tc and the hypothesis is rejected"
   ]
  },
  {
   "cell_type": "code",
   "execution_count": 6,
   "id": "237fa454",
   "metadata": {
    "scrolled": true
   },
   "outputs": [
    {
     "data": {
      "image/png": "[encoded data removed]",
      "text/plain": [
       "<Figure size 432x288 with 1 Axes>"
      ]
     },
     "metadata": {
      "needs_background": "light"
     },
     "output_type": "display_data"
    }
   ],
   "source": [
    "distr = np.linspace(sample_mean - 3*pop_std_dev, sample_mean + 3*pop_std_dev, 100)\n",
    "plt.plot(distr , stats.norm.pdf(distr, sample_mean, pop_std_dev))\n",
    "plt.axvline(x=pop_mean, color='orange', ls='--', lw=1.5, label='axvline - % of full height')\n",
    "plt.axvline(x=sample_mean, color='#53868B', ls='--', lw=1.5, label='axvline - % of full height')\n",
    "plt.show()"
   ]
  }
 ],
 "metadata": {
  "kernelspec": {
   "display_name": "Python 3 (ipykernel)",
   "language": "python",
   "name": "python3"
  },
  "language_info": {
   "codemirror_mode": {
    "name": "ipython",
    "version": 3
   },
   "file_extension": ".py",
   "mimetype": "text/x-python",
   "name": "python",
   "nbconvert_exporter": "python",
   "pygments_lexer": "ipython3",
   "version": "3.9.12"
  }
 },
 "nbformat": 4,
 "nbformat_minor": 5
}
