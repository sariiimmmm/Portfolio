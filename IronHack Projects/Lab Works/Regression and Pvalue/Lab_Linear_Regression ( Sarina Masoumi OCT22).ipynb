{
 "cells": [
  {
   "cell_type": "code",
   "execution_count": 1,
   "id": "fed00ce7",
   "metadata": {},
   "outputs": [],
   "source": [
    "import numpy as np\n",
    "import pandas as pd\n",
    "import matplotlib.pyplot as plt\n",
    "%matplotlib inline\n",
    "import seaborn as sns\n",
    "from sklearn.preprocessing import StandardScaler\n",
    "from sklearn.preprocessing import quantile_transform\n",
    "from sklearn.preprocessing import minmax_scale\n",
    "from sklearn.preprocessing import OneHotEncoder  ##. better to use dummy from pandas \n",
    "from sklearn.preprocessing import PowerTransformer\n",
    "from scipy.stats import boxcox\n",
    "from sklearn.linear_model import LinearRegression\n",
    "from sklearn.model_selection import train_test_split\n",
    "import statsmodels.api as sm\n",
    "from scipy.stats import boxcox\n",
    "from sklearn.metrics import r2_score\n",
    "from sklearn.metrics import mean_squared_error as mse\n",
    "from sklearn.metrics import mean_absolute_error as mae\n",
    "pd.options.display.max_rows = 50"
   ]
  },
  {
   "cell_type": "markdown",
   "id": "a7780752",
   "metadata": {},
   "source": [
    "Activity\n",
    "(Tuseday)\n",
    "\n",
    "#Linear Regression\n",
    "\n",
    "-X-y split (y is the target variable, which is the total claim amount)\n",
    "\n",
    "-Train-test split.\n",
    "\n",
    "-Standardize the data (after the data split).\n",
    "\n",
    "-Apply linear regression.\n",
    "\n",
    "-Model Interpretation."
   ]
  },
  {
   "cell_type": "code",
   "execution_count": null,
   "id": "e339f29e",
   "metadata": {
    "scrolled": true
   },
   "outputs": [],
   "source": [
    "auto_customer_df=pd.read_csv(\"data/Data_Marketing_Customer_Analysis_Round3.csv\")\n",
    "auto_customer_df"
   ]
  },
  {
   "cell_type": "code",
   "execution_count": null,
   "id": "de0fe964",
   "metadata": {},
   "outputs": [],
   "source": [
    "sns.pairplot(auto_customer_df)"
   ]
  },
  {
   "cell_type": "code",
   "execution_count": null,
   "id": "fd1d029b",
   "metadata": {},
   "outputs": [],
   "source": [
    "auto_numerical_df=auto_customer_df.select_dtypes(np.number)"
   ]
  },
  {
   "cell_type": "code",
   "execution_count": null,
   "id": "13eda4e7",
   "metadata": {},
   "outputs": [],
   "source": [
    "corr = auto_numerical_df.corr()\n",
    "mask = np.zeros_like(corr)\n",
    "mask[np.triu_indices_from(mask)] = True\n",
    "with sns.axes_style(\"white\"):\n",
    "    f, ax = plt.subplots(figsize=(9, 7))\n",
    "    ax = sns.heatmap(corr, mask=mask,cmap='coolwarm', vmin=-1,vmax=1,annot=True, square=True)"
   ]
  },
  {
   "cell_type": "code",
   "execution_count": null,
   "id": "d136f1da",
   "metadata": {},
   "outputs": [],
   "source": [
    "auto_numerical_df.hist(figsize=(12,12))"
   ]
  },
  {
   "cell_type": "code",
   "execution_count": null,
   "id": "ac329201",
   "metadata": {},
   "outputs": [],
   "source": [
    "pt = PowerTransformer()\n",
    "customer_lifetime_value_transformed=pt.fit_transform(auto_numerical_df['customer_lifetime_value'].to_numpy().reshape(-1,1))\n",
    "sns.displot(customer_lifetime_value_transformed)"
   ]
  },
  {
   "cell_type": "code",
   "execution_count": null,
   "id": "d27789fb",
   "metadata": {},
   "outputs": [],
   "source": [
    "auto_numerical_df[\"customer_lifetime_value_transformed\"]= customer_lifetime_value_transformed\n",
    "auto_numerical_df.drop([\"customer_lifetime_value\"],axis=1,inplace=True)"
   ]
  },
  {
   "cell_type": "code",
   "execution_count": null,
   "id": "ae9cd56d",
   "metadata": {},
   "outputs": [],
   "source": [
    "monthly_premium_auto_transformed=pt.fit_transform(auto_numerical_df['monthly_premium_auto'].to_numpy().reshape(-1,1))\n",
    "sns.displot(customer_lifetime_value_transformed)"
   ]
  },
  {
   "cell_type": "code",
   "execution_count": null,
   "id": "9ec9da26",
   "metadata": {},
   "outputs": [],
   "source": [
    "auto_numerical_df[\"monthly_premium_auto_transformed\"]= monthly_premium_auto_transformed\n",
    "auto_numerical_df.drop([\"monthly_premium_auto\"],axis=1,inplace=True)"
   ]
  },
  {
   "cell_type": "code",
   "execution_count": null,
   "id": "0a5c96d4",
   "metadata": {
    "scrolled": true
   },
   "outputs": [],
   "source": [
    "auto_customer_df\n"
   ]
  },
  {
   "cell_type": "code",
   "execution_count": null,
   "id": "d9cc25e1",
   "metadata": {},
   "outputs": [],
   "source": [
    "cols_to_hot_encode=[\"region\",\"coverage\",\"education\",\"employment_status\",\"gender\"]"
   ]
  },
  {
   "cell_type": "code",
   "execution_count": null,
   "id": "10ad61d0",
   "metadata": {},
   "outputs": [],
   "source": [
    "cols_to_standardize=[\"customer_lifetime_value\" , \"monthly_premium_auto\" ]"
   ]
  },
  {
   "cell_type": "code",
   "execution_count": null,
   "id": "363267a6",
   "metadata": {},
   "outputs": [],
   "source": [
    "from sklearn.compose import ColumnTransformer"
   ]
  },
  {
   "cell_type": "code",
   "execution_count": null,
   "id": "d6e8acbb",
   "metadata": {},
   "outputs": [],
   "source": [
    "transformer = ColumnTransformer([\n",
    "    ('standardize', StandardScaler(), cols_to_standardize),\n",
    "    ('encode', OneHotEncoder(), cols_to_hot_encode)\n",
    "], remainder = 'passthrough', verbose_feature_names_out=True)\n",
    "transformer.fit(X_train)"
   ]
  },
  {
   "cell_type": "code",
   "execution_count": null,
   "id": "5720bc56",
   "metadata": {},
   "outputs": [],
   "source": [
    "X=transformer.drop('total_claim_amount', axis=1)\n",
    "y=transformer.total_claim_amount"
   ]
  },
  {
   "cell_type": "code",
   "execution_count": null,
   "id": "61b3d399",
   "metadata": {},
   "outputs": [],
   "source": [
    "X=X._get_numeric_data()"
   ]
  },
  {
   "cell_type": "code",
   "execution_count": null,
   "id": "6f848c40",
   "metadata": {},
   "outputs": [],
   "source": [
    "X.hist(figsize=(14,14))"
   ]
  },
  {
   "cell_type": "code",
   "execution_count": null,
   "id": "208accea",
   "metadata": {},
   "outputs": [],
   "source": [
    "X_train, X_test, y_train, y_test=train_test_split(X, y, test_size=.30,random_state=123)\n"
   ]
  },
  {
   "cell_type": "code",
   "execution_count": null,
   "id": "6ad54d0d",
   "metadata": {},
   "outputs": [],
   "source": [
    "std_scaler=StandardScaler().fit(X_train)   ##. finding the parameters ( mean, variance from the training set )\n",
    "\n",
    "X_train_scaled=std_scaler.transform(X_train)"
   ]
  },
  {
   "cell_type": "code",
   "execution_count": null,
   "id": "15dda809",
   "metadata": {},
   "outputs": [],
   "source": [
    "X_train.shape"
   ]
  },
  {
   "cell_type": "code",
   "execution_count": null,
   "id": "432c94df",
   "metadata": {},
   "outputs": [],
   "source": [
    "X_test_scaled=std_scaler.transform(X_test)"
   ]
  },
  {
   "cell_type": "code",
   "execution_count": null,
   "id": "3bde6d3b",
   "metadata": {
    "scrolled": false
   },
   "outputs": [],
   "source": [
    "X_train_const_scaled = sm.add_constant(X_train_scaled) # adding a constant\n",
    "\n",
    "model = sm.OLS(y_train, X_train_const_scaled).fit()\n",
    "predictions_train = model.predict(X_train_const_scaled) \n",
    "\n",
    "X_test_const_scaled = sm.add_constant(X_test_scaled) # adding a constant\n",
    "predictions_test = model.predict(X_test_const_scaled) \n",
    "print_model = model.summary()\n",
    "print(print_model)"
   ]
  },
  {
   "cell_type": "code",
   "execution_count": null,
   "id": "9146e670",
   "metadata": {},
   "outputs": [],
   "source": [
    "model=LinearRegression()    \n",
    "model.fit(X_train_scaled, y_train)   "
   ]
  },
  {
   "cell_type": "code",
   "execution_count": null,
   "id": "ffe2575e",
   "metadata": {},
   "outputs": [],
   "source": [
    "y_pred=model.predict(X_test_scaled)   # model prediction\n",
    "\n",
    "y_pred_train=model.predict(X_train_scaled)"
   ]
  },
  {
   "cell_type": "code",
   "execution_count": null,
   "id": "b9077c77",
   "metadata": {},
   "outputs": [],
   "source": [
    "y_pred"
   ]
  },
  {
   "cell_type": "code",
   "execution_count": null,
   "id": "ccb7ced4",
   "metadata": {
    "scrolled": true
   },
   "outputs": [],
   "source": [
    "y_test"
   ]
  },
  {
   "cell_type": "markdown",
   "id": "64beb6ee",
   "metadata": {},
   "source": [
    "# Model Validation\n",
    "\n",
    "## Model Evaluation:\n",
    "\n",
    "-MSE.\n",
    "\n",
    "-RMSE.\n",
    "\n",
    "-MAE.\n",
    "\n",
    "-R2.\n",
    "\n",
    "-Adjusted R2.\n",
    "\n",
    "-Feature Importance.\n"
   ]
  },
  {
   "cell_type": "code",
   "execution_count": null,
   "id": "1c034dd6",
   "metadata": {},
   "outputs": [],
   "source": [
    "result=pd.DataFrame({\"y_test\":y_test,\"y_pred\":y_pred})\n",
    "result"
   ]
  },
  {
   "cell_type": "code",
   "execution_count": null,
   "id": "23b0e1c8",
   "metadata": {
    "scrolled": true
   },
   "outputs": [],
   "source": [
    "sns.regplot(x='y_pred',y='y_test', data=result, scatter_kws={\"color\": \"red\"}, line_kws={\"color\": \"black\"})"
   ]
  },
  {
   "cell_type": "code",
   "execution_count": null,
   "id": "1ba94cd7",
   "metadata": {},
   "outputs": [],
   "source": [
    "mse(y_test,y_pred)"
   ]
  },
  {
   "cell_type": "code",
   "execution_count": null,
   "id": "b7ed28e7",
   "metadata": {},
   "outputs": [],
   "source": [
    "mae(y_test,y_pred)"
   ]
  },
  {
   "cell_type": "code",
   "execution_count": null,
   "id": "67dac1e2",
   "metadata": {},
   "outputs": [],
   "source": [
    "R2=r2_score(y_test,y_pred)\n",
    "R2"
   ]
  },
  {
   "cell_type": "code",
   "execution_count": null,
   "id": "5c53e1f9",
   "metadata": {},
   "outputs": [],
   "source": [
    "R2_test=model.score(X_test_scaled,y_test)\n",
    "R2_train=model.score(X_train_scaled,y_train)"
   ]
  },
  {
   "cell_type": "code",
   "execution_count": null,
   "id": "4eac3338",
   "metadata": {},
   "outputs": [],
   "source": [
    "R2_test"
   ]
  },
  {
   "cell_type": "code",
   "execution_count": null,
   "id": "96225142",
   "metadata": {},
   "outputs": [],
   "source": [
    "R2_train"
   ]
  },
  {
   "cell_type": "code",
   "execution_count": null,
   "id": "75ff77a7",
   "metadata": {
    "scrolled": true
   },
   "outputs": [],
   "source": [
    "Adj_R2= 1 - (1-R2)*(len(y_test)-1)/(len(y_test)-X_test.shape[1]-1)\n",
    "Adj_R2"
   ]
  },
  {
   "cell_type": "code",
   "execution_count": null,
   "id": "2f1e8b87",
   "metadata": {},
   "outputs": [],
   "source": [
    "features_importances = pd.DataFrame(data={\n",
    "    'Attribute': X_train.columns,\n",
    "    'Importance': abs(model.coef_)\n",
    "})\n",
    "features_importances = features_importances.sort_values(by='Importance', ascending=False)\n",
    "\n",
    "features_importances"
   ]
  }
 ],
 "metadata": {
  "kernelspec": {
   "display_name": "Python 3 (ipykernel)",
   "language": "python",
   "name": "python3"
  },
  "language_info": {
   "codemirror_mode": {
    "name": "ipython",
    "version": 3
   },
   "file_extension": ".py",
   "mimetype": "text/x-python",
   "name": "python",
   "nbconvert_exporter": "python",
   "pygments_lexer": "ipython3",
   "version": "3.9.12"
  }
 },
 "nbformat": 4,
 "nbformat_minor": 5
}
